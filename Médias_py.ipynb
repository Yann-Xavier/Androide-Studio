{
  "cells": [
    {
      "cell_type": "markdown",
      "metadata": {
        "id": "view-in-github",
        "colab_type": "text"
      },
      "source": [
        "<a href=\"https://colab.research.google.com/github/Yann-Xavier/Androide-Studio/blob/main/M%C3%A9dias_py.ipynb\" target=\"_parent\"><img src=\"https://colab.research.google.com/assets/colab-badge.svg\" alt=\"Open In Colab\"/></a>"
      ]
    },
    {
      "cell_type": "code",
      "source": [
        "import pandas as pd\n",
        "\n",
        "lista = [12, 23, 34, 45, 56, 67]\n",
        "serie_panda = pd.Series(lista)\n",
        "print(serie_panda[0])"
      ],
      "metadata": {
        "colab": {
          "base_uri": "https://localhost:8080/"
        },
        "id": "M-E8fyJO8Z4z",
        "outputId": "3f500a16-1efd-480d-871e-edc1bb3c0577"
      },
      "execution_count": 2,
      "outputs": [
        {
          "output_type": "stream",
          "name": "stdout",
          "text": [
            "12\n"
          ]
        }
      ]
    },
    {
      "cell_type": "code",
      "source": [
        "notas = {'tiago': 8, 'Guilherme' : 9.5, 'juca' : 6.7}\n",
        "serie_panda = pd.Series(notas)\n",
        "print(serie_panda['tiago'])"
      ],
      "metadata": {
        "colab": {
          "base_uri": "https://localhost:8080/"
        },
        "id": "gDWKTkEs9Fj-",
        "outputId": "cebd4aa3-855b-4a3b-cce6-3ad759869d8f"
      },
      "execution_count": 3,
      "outputs": [
        {
          "output_type": "stream",
          "name": "stdout",
          "text": [
            "8.0\n"
          ]
        }
      ]
    },
    {
      "cell_type": "code",
      "source": [
        "print(serie_panda['tiago'])"
      ],
      "metadata": {
        "colab": {
          "base_uri": "https://localhost:8080/"
        },
        "id": "hN-vhzCM9b7X",
        "outputId": "c692c74e-dfbb-42b0-ba11-0de0bf02db3f"
      },
      "execution_count": 4,
      "outputs": [
        {
          "output_type": "stream",
          "name": "stdout",
          "text": [
            "8.0\n"
          ]
        }
      ]
    },
    {
      "cell_type": "code",
      "source": [
        "print(serie_panda.describe())"
      ],
      "metadata": {
        "colab": {
          "base_uri": "https://localhost:8080/"
        },
        "id": "K-TFmom_9uXz",
        "outputId": "3ce056c8-ab4b-4ce1-e9d3-1bc310309ec2"
      },
      "execution_count": 5,
      "outputs": [
        {
          "output_type": "stream",
          "name": "stdout",
          "text": [
            "count    3.000000\n",
            "mean     8.066667\n",
            "std      1.401190\n",
            "min      6.700000\n",
            "25%      7.350000\n",
            "50%      8.000000\n",
            "75%      8.750000\n",
            "max      9.500000\n",
            "dtype: float64\n"
          ]
        }
      ]
    }
  ],
  "metadata": {
    "colab": {
      "provenance": [],
      "authorship_tag": "ABX9TyP/w/IEriLPEJG490J3Gs/4",
      "include_colab_link": true
    },
    "kernelspec": {
      "display_name": "Python 3",
      "name": "python3"
    },
    "language_info": {
      "name": "python"
    }
  },
  "nbformat": 4,
  "nbformat_minor": 0
}